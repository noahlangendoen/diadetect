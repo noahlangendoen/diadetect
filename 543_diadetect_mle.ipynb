{
  "cells": [
    {
      "cell_type": "markdown",
      "metadata": {
        "id": "qhjleA6JlGOA"
      },
      "source": [
        "# Model Development"
      ]
    },
    {
      "cell_type": "markdown",
      "metadata": {
        "id": "v32Ria4elJBv"
      },
      "source": [
        "## Problem Definition\n",
        "\n",
        "### Outcome\n",
        "The goal is to predict the likelihood of a person having diabetes based on various demographic, health, and lifestyle features. This binary classification problem aims to accurately classify individuals as either diabetic or non-diabetic.\n",
        "\n",
        "### Objective\n",
        "To build a predictive model that determines whether an individual has diabetes or not, using medical, lifestyle, and demographic data. The model should assist in identifying individuals at risk, potentially supporting early intervention and preventive measures.\n",
        "\n",
        "### Target Variable\n",
        "- **Diabetes_binary**: The target variable for this classification task, where:\n",
        "  - **1** indicates the presence of diabetes.\n",
        "  - **0** indicates the absence of diabetes.\n",
        "\n",
        "### Features\n",
        "- The model will use a combination of medical, demographic, and lifestyle features, including:\n",
        "  - **Medical Features**: BMI, Blood Pressure, Glucose, and Insulin levels.\n",
        "  - **Lifestyle Features**: Physical activity, smoking status, alcohol consumption, and diet.\n",
        "  - **Demographic Features**: Age, sex, education level, and income.\n",
        "\n",
        "### Evaluation Metrics\n",
        "Since this is a classification task, we will assess model performance using the following metrics:\n",
        "\n",
        "- **Accuracy**: Measures overall correctness of the model but may be limited if there’s a class imbalance.\n",
        "- **Precision**: Indicates the proportion of true positive predictions (diabetic) out of all positive predictions, showing how reliable the model is in predicting diabetes.\n",
        "- **Recall**: Measures the proportion of true positives identified out of all actual positives, highlighting the model’s ability to detect diabetes cases.\n",
        "- **F1-score**: The harmonic mean of precision and recall, providing a balanced measure especially useful if there’s class imbalance.\n",
        "- **ROC-AUC**: Reflects the trade-off between sensitivity and specificity, where a higher score (closer to 1) indicates better performance.\n",
        "\n",
        "### Expected Outcome\n",
        "By training and testing the model on this dataset, we expect to:\n",
        "1. Accurately predict the diabetes status of individuals based on input features.\n",
        "2. Identify key predictors that contribute to the model’s decisions.\n",
        "3. Obtain a well-calibrated model that balances sensitivity and specificity, as indicated by a high ROC-AUC score.\n",
        "\n",
        "The final model will provide a valuable tool for predicting diabetes risk, aiding in early detection and potential intervention."
      ]
    },
    {
      "cell_type": "code",
      "execution_count": null,
      "metadata": {
        "id": "jEqAEUVIlkkB"
      },
      "outputs": [],
      "source": [
        "# Import necessary libraries\n",
        "import pandas as pd\n",
        "from sklearn.model_selection import train_test_split, GridSearchCV\n",
        "from sklearn.linear_model import LogisticRegression\n",
        "from sklearn.svm import SVC\n",
        "from sklearn.ensemble import RandomForestClassifier\n",
        "from xgboost import XGBClassifier\n",
        "from sklearn.metrics import classification_report, accuracy_score, precision_score, recall_score, f1_score, roc_auc_score\n",
        "from sklearn.metrics import confusion_matrix, classification_report\n",
        "import seaborn as sns\n",
        "import matplotlib.pyplot as plt"
      ]
    },
    {
      "cell_type": "code",
      "execution_count": null,
      "metadata": {
        "colab": {
          "base_uri": "https://localhost:8080/",
          "height": 714
        },
        "id": "nH5FkGurmGFR",
        "outputId": "cd2acbf5-0bb1-4935-ad3d-8be7fd449349"
      },
      "outputs": [
        {
          "output_type": "display_data",
          "data": {
            "text/plain": [
              "<Figure size 600x400 with 1 Axes>"
            ],
            "image/png": "[encoded data removed]"
          },
          "metadata": {}
        },
        {
          "output_type": "stream",
          "name": "stdout",
          "text": [
            "\n",
            "Classification Report:\n",
            "              precision    recall  f1-score   support\n",
            "\n",
            "Non-Diabetic       0.75      0.73      0.74      6723\n",
            "    Diabetic       0.75      0.77      0.76      7089\n",
            "\n",
            "    accuracy                           0.75     13812\n",
            "   macro avg       0.75      0.75      0.75     13812\n",
            "weighted avg       0.75      0.75      0.75     13812\n",
            "\n",
            "Baseline Model: Logistic Regression\n",
            "Accuracy: 74.82%\n",
            "Precision: 74.85%\n",
            "Recall: 76.72%\n",
            "F1 Score: 75.77%\n",
            "ROC AUC Score: 74.77%\n"
          ]
        }
      ],
      "source": [
        "\"\"\"\n",
        "  Baseline Model Development\n",
        "\n",
        "  Deliverable: Build a simple model to establish baseline performance.\n",
        "  Current Recommended Model: Logistic Regression.\n",
        "\"\"\"\n",
        "# Load the cleaned dataset\n",
        "df = pd.read_csv('cleaned_df.csv')\n",
        "\n",
        "# Define features and target variable\n",
        "X = df.drop(columns=['Diabetes_binary'])\n",
        "y = df['Diabetes_binary']\n",
        "\n",
        "# Split the data into training and testing sets\n",
        "X_train, X_test, y_train, y_test = train_test_split(X, y, test_size=0.2, random_state=42)\n",
        "\n",
        "# Initialize and train the Logistic Regression model\n",
        "logreg = LogisticRegression(max_iter=200, solver='lbfgs')\n",
        "logreg.fit(X_train, y_train)\n",
        "\n",
        "# Predict on the test set\n",
        "y_pred = logreg.predict(X_test)\n",
        "\n",
        "# Generate Confusion Matrix\n",
        "conf_matrix = confusion_matrix(y_test, y_pred)\n",
        "\n",
        "# Plot Confusion Matrix\n",
        "plt.figure(figsize=(6, 4))\n",
        "sns.heatmap(conf_matrix, annot=True, fmt=\"d\", cmap=\"Blues\", cbar=False,\n",
        "            xticklabels=['Non-Diabetic', 'Diabetic'],\n",
        "            yticklabels=['Non-Diabetic', 'Diabetic'])\n",
        "plt.xlabel(\"Predicted\")\n",
        "plt.ylabel(\"Actual\")\n",
        "plt.title(\"Confusion Matrix\")\n",
        "plt.show()\n",
        "\n",
        "# Display Classification Report\n",
        "print(\"\\nClassification Report:\")\n",
        "print(classification_report(y_test, y_pred, target_names=['Non-Diabetic', 'Diabetic']))\n",
        "\n",
        "# Evaluate performance and display metrics as percentages\n",
        "print(\"Baseline Model: Logistic Regression\")\n",
        "print(\"Accuracy:\", f\"{accuracy_score(y_test, y_pred) * 100:.2f}%\")\n",
        "print(\"Precision:\", f\"{precision_score(y_test, y_pred) * 100:.2f}%\")\n",
        "print(\"Recall:\", f\"{recall_score(y_test, y_pred) * 100:.2f}%\")\n",
        "print(\"F1 Score:\", f\"{f1_score(y_test, y_pred) * 100:.2f}%\")\n",
        "print(\"ROC AUC Score:\", f\"{roc_auc_score(y_test, y_pred) * 100:.2f}%\")"
      ]
    },
    {
      "cell_type": "markdown",
      "metadata": {
        "id": "bmXnD7XVnoUp"
      },
      "source": [
        "## Baseline Model Report: Logistic Regression\n",
        "\n",
        "## Objective\n",
        "The objective of this classification problem is to predict diabetes status based on various medical and demographic features. The target variable is `Diabetes_binary`, where:\n",
        "- 1 = Diabetic\n",
        "- 0 = Non-Diabetic\n",
        "\n",
        "## Model Selection\n",
        "\n",
        "### Chosen Model: Logistic Regression\n",
        "Logistic Regression was selected as the baseline model for the following reasons:\n",
        "\n",
        "1. **Simplicity and Interpretability**: Logistic Regression is a straightforward and interpretable model. It allows us to understand initial relationships between features and the target, which is valuable at the baseline stage.\n",
        "  \n",
        "2. **Performance**: Logistic Regression generally performs well in binary classification tasks, especially on datasets that are well-prepared and standardized.\n",
        "  \n",
        "3. **Computational Efficiency**: Logistic Regression is computationally inexpensive, allowing for rapid iteration and testing during the initial phases of model development.\n",
        "  \n",
        "4. **Compatibility with Evaluation Metrics**: Logistic Regression works effectively with metrics commonly used in classification, such as accuracy, precision, recall, F1-score, and ROC-AUC.\n",
        "\n",
        "### Alternative Baseline Models\n",
        "While Logistic Regression is a strong choice for the baseline, here are other models that could serve as potential baselines:\n",
        "\n",
        "1. **Decision Tree**: Provides insight into feature importance and can handle non-linear relationships but may overfit without tuning.\n",
        "2. **k-Nearest Neighbors (k-NN)**: A simple model that doesn't assume any specific distribution but may be computationally slow for larger datasets.\n",
        "3. **Naive Bayes**: Useful for cases where feature independence is assumed, and it can provide strong results for some datasets.\n",
        "4. **Dummy Classifier**: Predicting the majority class as a minimal baseline to ensure real models outperform this.\n",
        "\n",
        "## Evaluation Metrics\n",
        "\n",
        "The following metrics were used to evaluate the baseline model's performance:\n",
        "- **Accuracy**: Measures the overall correctness of the model's predictions.\n",
        "- **Precision**: Indicates the proportion of true positives out of all positive predictions.\n",
        "- **Recall**: Reflects the model's ability to identify all true positives.\n",
        "- **F1 Score**: The harmonic mean of precision and recall, balancing the two metrics.\n",
        "- **ROC AUC**: A measure of the trade-off between sensitivity and specificity, providing a score between 0.5 and 1.\n",
        "\n",
        "## Model Performance\n",
        "\n",
        "### Confusion Matrix\n",
        "\n",
        "|             | Predicted: Non-Diabetic | Predicted: Diabetic |\n",
        "|-------------|--------------------------|----------------------|\n",
        "| Actual: Non-Diabetic | 4895                 | 1828                 |\n",
        "| Actual: Diabetic     | 1650                 | 5439                 |\n",
        "\n",
        "### Classification Report\n",
        "\n",
        "| Class           | Precision | Recall | F1-Score | Support |\n",
        "|-----------------|-----------|--------|----------|---------|\n",
        "| Non-Diabetic    | 0.75      | 0.73   | 0.74     | 6723    |\n",
        "| Diabetic        | 0.75      | 0.77   | 0.76     | 7089    |\n",
        "| **Accuracy**    |           |        | **0.75** | **13812** |\n",
        "| **Macro Avg**   | 0.75      | 0.75   | 0.75     | 13812   |\n",
        "| **Weighted Avg**| 0.75      | 0.75   | 0.75     | 13812   |\n",
        "\n",
        "### Summary of Baseline Performance\n",
        "\n",
        "- **Accuracy**: 74.82%\n",
        "- **Precision**: 74.85%\n",
        "- **Recall**: 76.72%\n",
        "- **F1 Score**: 75.77%\n",
        "- **ROC AUC Score**: 74.77%\n",
        "\n",
        "## Conclusion\n",
        "The Logistic Regression model provided a strong baseline performance with an accuracy of 74.82% and a balanced precision-recall trade-off. The recall is slightly higher for the Diabetic class, which indicates the model's slight tendency to prioritize identifying diabetic cases. This baseline gives a solid foundation, and further improvements can be pursued by exploring more complex models or fine-tuning logistic regression parameters."
      ]
    },
    {
      "cell_type": "markdown",
      "metadata": {
        "id": "f71xmSuHm-3E"
      },
      "source": [
        "# **Baseline Model Development**"
      ]
    },
    {
      "cell_type": "markdown",
      "metadata": {
        "id": "Or5EdALVlG1n"
      },
      "source": [
        "#SVM"
      ]
    },
    {
      "cell_type": "code",
      "execution_count": null,
      "metadata": {
        "colab": {
          "base_uri": "https://localhost:8080/",
          "height": 714
        },
        "id": "PL-V4GyYlVT-",
        "outputId": "61b03988-dcc8-4acd-f764-79d51e63cdf0"
      },
      "outputs": [
        {
          "data": {
            "image/png": "[encoded data removed]",
            "text/plain": [
              "<Figure size 600x400 with 1 Axes>"
            ]
          },
          "metadata": {},
          "output_type": "display_data"
        },
        {
          "name": "stdout",
          "output_type": "stream",
          "text": [
            "\n",
            "Classification Report:\n",
            "              precision    recall  f1-score   support\n",
            "\n",
            "Non-Diabetic       0.76      0.71      0.73      6723\n",
            "    Diabetic       0.74      0.79      0.76      7089\n",
            "\n",
            "    accuracy                           0.75     13812\n",
            "   macro avg       0.75      0.75      0.75     13812\n",
            "weighted avg       0.75      0.75      0.75     13812\n",
            "\n",
            "Baseline Model: Support Vector Machine\n",
            "Accuracy: 74.75%\n",
            "Precision: 73.81%\n",
            "Recall: 78.76%\n",
            "F1 Score: 76.20%\n",
            "ROC AUC Score: 82.09%\n"
          ]
        }
      ],
      "source": [
        "df = pd.read_csv('cleaned_df.csv')\n",
        "\n",
        "# Define features and target variable\n",
        "X = df.drop(columns=['Diabetes_binary'])\n",
        "y = df['Diabetes_binary']\n",
        "\n",
        "# Split the data into training and testing sets\n",
        "X_train, X_test, y_train, y_test = train_test_split(X, y, test_size=0.2, random_state=42)\n",
        "\n",
        "# Initialize and train the SVM model\n",
        "svm_model = SVC(kernel='linear', probability=True)\n",
        "svm_model.fit(X_train, y_train)\n",
        "\n",
        "# Predict on the test set\n",
        "y_pred = svm_model.predict(X_test)\n",
        "\n",
        "# Generate Confusion Matrix\n",
        "conf_matrix = confusion_matrix(y_test, y_pred)\n",
        "\n",
        "# Plot Confusion Matrix\n",
        "plt.figure(figsize=(6, 4))\n",
        "sns.heatmap(conf_matrix, annot=True, fmt=\"d\", cmap=\"Blues\", cbar=False,\n",
        "            xticklabels=['Non-Diabetic', 'Diabetic'],\n",
        "            yticklabels=['Non-Diabetic', 'Diabetic'])\n",
        "plt.xlabel(\"Predicted\")\n",
        "plt.ylabel(\"Actual\")\n",
        "plt.title(\"Confusion Matrix\")\n",
        "plt.show()\n",
        "\n",
        "# Display Classification Report\n",
        "print(\"\\nClassification Report:\")\n",
        "print(classification_report(y_test, y_pred, target_names=['Non-Diabetic', 'Diabetic']))\n",
        "\n",
        "# Evaluate performance and display metrics as percentages\n",
        "print(\"Baseline Model: Support Vector Machine\")\n",
        "print(\"Accuracy:\", f\"{accuracy_score(y_test, y_pred) * 100:.2f}%\")\n",
        "print(\"Precision:\", f\"{precision_score(y_test, y_pred) * 100:.2f}%\")\n",
        "print(\"Recall:\", f\"{recall_score(y_test, y_pred) * 100:.2f}%\")\n",
        "print(\"F1 Score:\", f\"{f1_score(y_test, y_pred) * 100:.2f}%\")\n",
        "print(\"ROC AUC Score:\", f\"{roc_auc_score(y_test, svm_model.decision_function(X_test)) * 100:.2f}%\")"
      ]
    },
    {
      "cell_type": "markdown",
      "source": [
        "**SVM Analysis:**\n",
        "\n",
        "Basline Performance:\n",
        "\n",
        "- **Accuracy**: 74.75%\n",
        "- **Precision**: 73.81%\n",
        "- **Recall**: 78.76%\n",
        "- **F1 Score**: 76.20%\n",
        "- **ROC AUC Score**: 82.09%\n",
        "\n",
        "SVM contained intriguing results. However, since runtime is lengthy, proceeding with this model seems unlikely."
      ],
      "metadata": {
        "id": "d-zGUkdgkfhj"
      }
    },
    {
      "cell_type": "markdown",
      "metadata": {
        "id": "VHJAee7-lxar"
      },
      "source": [
        "# Random Forest"
      ]
    },
    {
      "cell_type": "code",
      "execution_count": null,
      "metadata": {
        "colab": {
          "base_uri": "https://localhost:8080/",
          "height": 714
        },
        "id": "_h5_UADVl2bA",
        "outputId": "8b8032b8-fc8b-47b4-d31c-ee42f3655e43"
      },
      "outputs": [
        {
          "data": {
            "image/png": "[encoded data removed]",
            "text/plain": [
              "<Figure size 600x400 with 1 Axes>"
            ]
          },
          "metadata": {},
          "output_type": "display_data"
        },
        {
          "name": "stdout",
          "output_type": "stream",
          "text": [
            "\n",
            "Classification Report:\n",
            "              precision    recall  f1-score   support\n",
            "\n",
            "Non-Diabetic       0.75      0.70      0.72      6723\n",
            "    Diabetic       0.73      0.78      0.75      7089\n",
            "\n",
            "    accuracy                           0.74     13812\n",
            "   macro avg       0.74      0.74      0.74     13812\n",
            "weighted avg       0.74      0.74      0.74     13812\n",
            "\n",
            "Random Forest Model\n",
            "Accuracy: 73.89%\n",
            "Precision: 73.16%\n",
            "Recall: 77.57%\n",
            "F1 Score: 75.30%\n",
            "ROC AUC Score: 80.12%\n"
          ]
        }
      ],
      "source": [
        "df = pd.read_csv('cleaned_df.csv')\n",
        "\n",
        "# Define features and target variable\n",
        "X = df.drop(columns=['Diabetes_binary'])\n",
        "y = df['Diabetes_binary']\n",
        "\n",
        "# Split the data into training and testing sets\n",
        "X_train, X_test, y_train, y_test = train_test_split(X, y, test_size=0.2, random_state=42)\n",
        "\n",
        "# Initialize the Random Forest model with the specified parameters\n",
        "rf_model = RandomForestClassifier(random_state=42)\n",
        "\n",
        "# Train the Random Forest model\n",
        "rf_model.fit(X_train, y_train)\n",
        "\n",
        "# Predict on the test set\n",
        "y_pred = rf_model.predict(X_test)\n",
        "\n",
        "# Generate Confusion Matrix\n",
        "conf_matrix = confusion_matrix(y_test, y_pred)\n",
        "\n",
        "# Plot Confusion Matrix\n",
        "plt.figure(figsize=(6, 4))\n",
        "sns.heatmap(conf_matrix, annot=True, fmt=\"d\", cmap=\"Blues\", cbar=False,\n",
        "            xticklabels=['Non-Diabetic', 'Diabetic'],\n",
        "            yticklabels=['Non-Diabetic', 'Diabetic'])\n",
        "plt.xlabel(\"Predicted\")\n",
        "plt.ylabel(\"Actual\")\n",
        "plt.title(\"Confusion Matrix\")\n",
        "plt.show()\n",
        "\n",
        "# Display Classification Report\n",
        "print(\"\\nClassification Report:\")\n",
        "print(classification_report(y_test, y_pred, target_names=['Non-Diabetic', 'Diabetic']))\n",
        "\n",
        "# Evaluate performance and display metrics as percentages\n",
        "print(\"Random Forest Model\")\n",
        "print(\"Accuracy:\", f\"{accuracy_score(y_test, y_pred) * 100:.2f}%\")\n",
        "print(\"Precision:\", f\"{precision_score(y_test, y_pred) * 100:.2f}%\")\n",
        "print(\"Recall:\", f\"{recall_score(y_test, y_pred) * 100:.2f}%\")\n",
        "print(\"F1 Score:\", f\"{f1_score(y_test, y_pred) * 100:.2f}%\")\n",
        "print(\"ROC AUC Score:\", f\"{roc_auc_score(y_test, rf_model.predict_proba(X_test)[:, 1]) * 100:.2f}%\")"
      ]
    },
    {
      "cell_type": "markdown",
      "source": [
        "**Random Forests Analysis:**\n",
        "\n",
        "Basline Performance:\n",
        "\n",
        "- **Accuracy**: 73.89%\n",
        "- **Precision**: 73.16%\n",
        "- **Recall**: 77.57%\n",
        "- **F1 Score**: 75.30%\n",
        "- **ROC AUC Score**: 80.12%\n",
        "\n",
        "Random Forests has okay baseline results. However due to Random Forests high customizability and decent run time, this model is likely to receive hyperparameter tuning."
      ],
      "metadata": {
        "id": "a2OjgfIIlKby"
      }
    },
    {
      "cell_type": "markdown",
      "metadata": {
        "id": "btbVMT-6ly5M"
      },
      "source": [
        "# XGBoost"
      ]
    },
    {
      "cell_type": "code",
      "execution_count": null,
      "metadata": {
        "colab": {
          "base_uri": "https://localhost:8080/",
          "height": 714
        },
        "id": "PgYhE3lBl22E",
        "outputId": "6d473431-a50d-44e2-f6dd-d2885c915b2f"
      },
      "outputs": [
        {
          "data": {
            "image/png": "[encoded data removed]",
            "text/plain": [
              "<Figure size 600x400 with 1 Axes>"
            ]
          },
          "metadata": {},
          "output_type": "display_data"
        },
        {
          "name": "stdout",
          "output_type": "stream",
          "text": [
            "\n",
            "Classification Report:\n",
            "              precision    recall  f1-score   support\n",
            "\n",
            "Non-Diabetic       0.76      0.71      0.73      6723\n",
            "    Diabetic       0.74      0.79      0.76      7089\n",
            "\n",
            "    accuracy                           0.75     13812\n",
            "   macro avg       0.75      0.75      0.75     13812\n",
            "weighted avg       0.75      0.75      0.75     13812\n",
            "\n",
            "XGBoost Model\n",
            "Accuracy: 75.02%\n",
            "Precision: 74.00%\n",
            "Recall: 79.14%\n",
            "F1 Score: 76.48%\n",
            "ROC AUC Score: 82.53%\n"
          ]
        }
      ],
      "source": [
        "# Load the dataset\n",
        "df = pd.read_csv('cleaned_df.csv')\n",
        "\n",
        "# Define features and target variable\n",
        "X = df.drop(columns=['Diabetes_binary'])\n",
        "y = df['Diabetes_binary']\n",
        "\n",
        "# Split the data into training and testing sets\n",
        "X_train, X_test, y_train, y_test = train_test_split(X, y, test_size=0.2, random_state=42)\n",
        "\n",
        "# Initialize the XGBoost model\n",
        "xgb_model = XGBClassifier(random_state=42)\n",
        "\n",
        "# Train the XGBoost model\n",
        "xgb_model.fit(X_train, y_train)\n",
        "\n",
        "# Predict on the test set\n",
        "y_pred = xgb_model.predict(X_test)\n",
        "\n",
        "# Generate Confusion Matrix\n",
        "conf_matrix = confusion_matrix(y_test, y_pred)\n",
        "\n",
        "# Plot Confusion Matrix\n",
        "plt.figure(figsize=(6, 4))\n",
        "sns.heatmap(conf_matrix, annot=True, fmt=\"d\", cmap=\"Blues\", cbar=False,\n",
        "            xticklabels=['Non-Diabetic', 'Diabetic'],\n",
        "            yticklabels=['Non-Diabetic', 'Diabetic'])\n",
        "plt.xlabel(\"Predicted\")\n",
        "plt.ylabel(\"Actual\")\n",
        "plt.title(\"Confusion Matrix\")\n",
        "plt.show()\n",
        "\n",
        "# Display Classification Report\n",
        "print(\"\\nClassification Report:\")\n",
        "print(classification_report(y_test, y_pred, target_names=['Non-Diabetic', 'Diabetic']))\n",
        "\n",
        "# Evaluate performance and display metrics as percentages\n",
        "print(\"XGBoost Model\")\n",
        "print(\"Accuracy:\", f\"{accuracy_score(y_test, y_pred) * 100:.2f}%\")\n",
        "print(\"Precision:\", f\"{precision_score(y_test, y_pred) * 100:.2f}%\")\n",
        "print(\"Recall:\", f\"{recall_score(y_test, y_pred) * 100:.2f}%\")\n",
        "print(\"F1 Score:\", f\"{f1_score(y_test, y_pred) * 100:.2f}%\")\n",
        "print(\"ROC AUC Score:\", f\"{roc_auc_score(y_test, xgb_model.predict_proba(X_test)[:, 1]) * 100:.2f}%\")\n"
      ]
    },
    {
      "cell_type": "markdown",
      "source": [
        "**XGBoost Analysis:**\n",
        "\n",
        "Basline Performance:\n",
        "\n",
        "- **Accuracy**: 75.02%\n",
        "- **Precision**: 74.00%\n",
        "- **Recall**: 79.14%\n",
        "- **F1 Score**: 76.48%\n",
        "- **ROC AUC Score**: 82.53%\n",
        "\n",
        "XGBoost contains our most promising baseline results. The run time is very fast and the hyperparameters allow for high customizability. Great bias towards recall and will proceed with hyperparamter tuning."
      ],
      "metadata": {
        "id": "aM34wKFslh0h"
      }
    },
    {
      "cell_type": "markdown",
      "metadata": {
        "id": "jKMCQZcem9Q8"
      },
      "source": [
        "# **Further Model Development**"
      ]
    },
    {
      "cell_type": "markdown",
      "metadata": {
        "id": "lky5nWoAnOJ1"
      },
      "source": [
        "The two models which we will proceed with for hyperparameter training are XGBoost and Random Forests. We feel as these are the best two models as they are very customizeable, and do not take a significant time to run. Grid search was used, but also hyperparameters were changed by hand based on quick testing."
      ]
    },
    {
      "cell_type": "markdown",
      "metadata": {
        "id": "1vLmsjVtngm4"
      },
      "source": [
        "# Random Forests Hyperparameter Training"
      ]
    },
    {
      "cell_type": "code",
      "execution_count": null,
      "metadata": {
        "colab": {
          "base_uri": "https://localhost:8080/"
        },
        "id": "lR18HTI6nqC5",
        "outputId": "408d4d01-b337-4b0e-d43f-bbc56b08f953"
      },
      "outputs": [
        {
          "output_type": "stream",
          "name": "stdout",
          "text": [
            "Fitting 3 folds for each of 72 candidates, totalling 216 fits\n",
            "\n",
            "Best Parameters for Random Forest Model:\n",
            "{'max_depth': 15, 'min_samples_leaf': 2, 'min_samples_split': 10, 'n_estimators': 200}\n",
            "\n",
            "Classification Report:\n",
            "              precision    recall  f1-score   support\n",
            "\n",
            "Non-Diabetic       0.77      0.71      0.74      6723\n",
            "    Diabetic       0.75      0.80      0.77      7089\n",
            "\n",
            "    accuracy                           0.76     13812\n",
            "   macro avg       0.76      0.76      0.76     13812\n",
            "weighted avg       0.76      0.76      0.76     13812\n",
            "\n",
            "\n",
            "Best Random Forest Model Performance Metrics:\n",
            "Accuracy: 75.66%\n",
            "Precision: 74.65%\n",
            "Recall: 79.62%\n",
            "F1 Score: 77.05%\n",
            "ROC AUC Score: 82.75%\n"
          ]
        }
      ],
      "source": [
        "# Load the dataset\n",
        "df = pd.read_csv('cleaned_df.csv')\n",
        "\n",
        "# Define features and target variable\n",
        "X = df.drop(columns=['Diabetes_binary'])  # Replace with the actual target variable name if different\n",
        "y = df['Diabetes_binary']\n",
        "\n",
        "# Split the data into training and testing sets\n",
        "X_train, X_test, y_train, y_test = train_test_split(X, y, test_size=0.2, random_state=42)\n",
        "\n",
        "# Parameter Grid\n",
        "param_grid = {\n",
        "    'n_estimators': [100, 200, 300],\n",
        "    'max_depth': [None, 10, 15, 18],\n",
        "    'min_samples_split': [2, 5, 10],\n",
        "    'min_samples_leaf': [1, 2]\n",
        "}\n",
        "\n",
        "# Initialize the Random Forest model\n",
        "rf_model = RandomForestClassifier(random_state=42)\n",
        "\n",
        "# Set up GridSearchCV\n",
        "grid_search = GridSearchCV(estimator=rf_model, param_grid=param_grid,\n",
        "                           scoring='f1', cv=3, n_jobs=-1, verbose=2)\n",
        "\n",
        "# Perform the grid search\n",
        "grid_search.fit(X_train, y_train)\n",
        "\n",
        "# Get the best model\n",
        "best_model = grid_search.best_estimator_\n",
        "y_pred = best_model.predict(X_test)\n",
        "\n",
        "# Display the best parameters of the model\n",
        "print(\"\\nBest Parameters for Random Forest Model:\")\n",
        "print(grid_search.best_params_)\n",
        "\n",
        "# Display Classification Report\n",
        "print(\"\\nClassification Report:\")\n",
        "print(classification_report(y_test, y_pred, target_names=['Non-Diabetic', 'Diabetic']))\n",
        "\n",
        "# Evaluate performance and display metrics as percentages\n",
        "print(\"\\nBest Random Forest Model Performance Metrics:\")\n",
        "print(\"Accuracy:\", f\"{accuracy_score(y_test, y_pred) * 100:.2f}%\")\n",
        "print(\"Precision:\", f\"{precision_score(y_test, y_pred) * 100:.2f}%\")\n",
        "print(\"Recall:\", f\"{recall_score(y_test, y_pred) * 100:.2f}%\")\n",
        "print(\"F1 Score:\", f\"{f1_score(y_test, y_pred) * 100:.2f}%\")\n",
        "print(\"ROC AUC Score:\", f\"{roc_auc_score(y_test, best_model.predict_proba(X_test)[:, 1]) * 100:.2f}%\")\n"
      ]
    },
    {
      "cell_type": "markdown",
      "metadata": {
        "id": "IgNs5QjO08EO"
      },
      "source": [
        "Best Model:"
      ]
    },
    {
      "cell_type": "code",
      "execution_count": null,
      "metadata": {
        "colab": {
          "base_uri": "https://localhost:8080/",
          "height": 714
        },
        "id": "IaBqtsMa059Z",
        "outputId": "bae189d6-e1d6-4743-c213-d5e73293d149"
      },
      "outputs": [
        {
          "output_type": "display_data",
          "data": {
            "text/plain": [
              "<Figure size 600x400 with 1 Axes>"
            ],
            "image/png": "[encoded data removed]"
          },
          "metadata": {}
        },
        {
          "output_type": "stream",
          "name": "stdout",
          "text": [
            "\n",
            "Classification Report:\n",
            "              precision    recall  f1-score   support\n",
            "\n",
            "Non-Diabetic       0.77      0.71      0.74      6723\n",
            "    Diabetic       0.74      0.80      0.77      7089\n",
            "\n",
            "    accuracy                           0.76     13812\n",
            "   macro avg       0.76      0.76      0.76     13812\n",
            "weighted avg       0.76      0.76      0.76     13812\n",
            "\n",
            "Random Forest Model\n",
            "Accuracy: 75.67%\n",
            "Precision: 74.49%\n",
            "Recall: 79.97%\n",
            "F1 Score: 77.13%\n",
            "ROC AUC Score: 82.62%\n"
          ]
        }
      ],
      "source": [
        "df = pd.read_csv('cleaned_df.csv')\n",
        "\n",
        "# Define features and target variable\n",
        "X = df.drop(columns=['Diabetes_binary'])  # Replace with the actual target variable name if different\n",
        "y = df['Diabetes_binary']\n",
        "\n",
        "# Split the data into training and testing sets\n",
        "X_train, X_test, y_train, y_test = train_test_split(X, y, test_size=0.2, random_state=42)\n",
        "\n",
        "# Initialize the Random Forest model with the specified parameters\n",
        "rf_model = RandomForestClassifier(\n",
        "    n_estimators=300,\n",
        "    max_depth=18,\n",
        "    min_samples_leaf=1,\n",
        "    min_samples_split=10,\n",
        "    random_state=42\n",
        ")\n",
        "\n",
        "# Train the Random Forest model\n",
        "rf_model.fit(X_train, y_train)\n",
        "\n",
        "# Predict on the test set\n",
        "y_pred = rf_model.predict(X_test)\n",
        "\n",
        "# Generate Confusion Matrix\n",
        "conf_matrix = confusion_matrix(y_test, y_pred)\n",
        "\n",
        "# Plot Confusion Matrix\n",
        "plt.figure(figsize=(6, 4))\n",
        "sns.heatmap(conf_matrix, annot=True, fmt=\"d\", cmap=\"Blues\", cbar=False,\n",
        "            xticklabels=['Non-Diabetic', 'Diabetic'],\n",
        "            yticklabels=['Non-Diabetic', 'Diabetic'])\n",
        "plt.xlabel(\"Predicted\")\n",
        "plt.ylabel(\"Actual\")\n",
        "plt.title(\"Confusion Matrix of Random Forests\")\n",
        "plt.show()\n",
        "\n",
        "# Display Classification Report\n",
        "print(\"\\nClassification Report:\")\n",
        "print(classification_report(y_test, y_pred, target_names=['Non-Diabetic', 'Diabetic']))\n",
        "\n",
        "# Evaluate performance and display metrics as percentages\n",
        "print(\"Random Forest Model\")\n",
        "print(\"Accuracy:\", f\"{accuracy_score(y_test, y_pred) * 100:.2f}%\")\n",
        "print(\"Precision:\", f\"{precision_score(y_test, y_pred) * 100:.2f}%\")\n",
        "print(\"Recall:\", f\"{recall_score(y_test, y_pred) * 100:.2f}%\")\n",
        "print(\"F1 Score:\", f\"{f1_score(y_test, y_pred) * 100:.2f}%\")\n",
        "print(\"ROC AUC Score:\", f\"{roc_auc_score(y_test, rf_model.predict_proba(X_test)[:, 1]) * 100:.2f}%\")"
      ]
    },
    {
      "cell_type": "markdown",
      "source": [
        "**Random Forests Analysis:**\n",
        "\n",
        "Hyperparameter Tuned Performance:\n",
        "\n",
        "- **Accuracy**: 75.67%\n",
        "- **Precision**: 74.49%\n",
        "- **Recall**: 79.97%\n",
        "- **F1 Score**: 77.13%\n",
        "- **ROC AUC Score**: 82.62%\n",
        "\n",
        "Hyperparamter tuning resulted in decent improvements in every metric. Will determine which model to proceed with after XGBoost tuning."
      ],
      "metadata": {
        "id": "qhX0F8aol-p8"
      }
    },
    {
      "cell_type": "markdown",
      "metadata": {
        "id": "DXXSfiGnpDpT"
      },
      "source": [
        "# XGBoost Hyperparameter Training"
      ]
    },
    {
      "cell_type": "code",
      "source": [
        "# Load the dataset\n",
        "df = pd.read_csv('cleaned_df.csv')\n",
        "\n",
        "# Define features and target variable\n",
        "X = df.drop(columns=['Diabetes_binary'])\n",
        "y = df['Diabetes_binary']\n",
        "\n",
        "# Split the data into training and testing sets\n",
        "X_train, X_test, y_train, y_test = train_test_split(X, y, test_size=0.2, random_state=42)\n",
        "\n",
        "# Parameter Grid\n",
        "param_grid = {\n",
        "    'n_estimators': [100, 200, 300],\n",
        "    'max_depth': [3, 5, 10],\n",
        "    'learning_rate': [0.01, 0.1, 0.2],\n",
        "    'subsample': [0.6, 0.8, 1.0],\n",
        "    'colsample_bytree': [0.6, 0.8, 1.0]\n",
        "}\n",
        "\n",
        "# Initialize the XGBoost model\n",
        "xgb_model = XGBClassifier(random_state=42, use_label_encoder=False, eval_metric='logloss')\n",
        "\n",
        "# Set up GridSearchCV\n",
        "grid_search = GridSearchCV(estimator=xgb_model, param_grid=param_grid,\n",
        "                           scoring='f1', cv=3, n_jobs=-1, verbose=2)\n",
        "\n",
        "# Perform the grid search\n",
        "grid_search.fit(X_train, y_train)\n",
        "\n",
        "# Get the best model\n",
        "best_model = grid_search.best_estimator_\n",
        "y_pred = best_model.predict(X_test)\n",
        "\n",
        "# Display the best parameters of the model\n",
        "print(\"\\nBest Parameters for XGBoost Model:\")\n",
        "print(grid_search.best_params_)\n",
        "\n",
        "# Display Classification Report\n",
        "print(\"\\nClassification Report:\")\n",
        "print(classification_report(y_test, y_pred, target_names=['Non-Diabetic', 'Diabetic']))\n",
        "\n",
        "# Evaluate performance and display metrics as percentages\n",
        "print(\"\\nBest XGBoost Model Performance Metrics:\")\n",
        "print(\"Accuracy:\", f\"{accuracy_score(y_test, y_pred) * 100:.2f}%\")\n",
        "print(\"Precision:\", f\"{precision_score(y_test, y_pred) * 100:.2f}%\")\n",
        "print(\"Recall:\", f\"{recall_score(y_test, y_pred) * 100:.2f}%\")\n",
        "print(\"F1 Score:\", f\"{f1_score(y_test, y_pred) * 100:.2f}%\")\n",
        "print(\"ROC AUC Score:\", f\"{roc_auc_score(y_test, best_model.predict_proba(X_test)[:, 1]) * 100:.2f}%\")\n"
      ],
      "metadata": {
        "id": "vOL_DRoyxiJM"
      },
      "execution_count": null,
      "outputs": []
    },
    {
      "cell_type": "markdown",
      "source": [
        "Not satisfied with results from this grid search. Will take 2 steps in identifying the best XGBoost model below using more precise tuning on most important hyperparmaters."
      ],
      "metadata": {
        "id": "IXJfr0uuxkiF"
      }
    },
    {
      "cell_type": "markdown",
      "metadata": {
        "id": "tBPwEY8Wp61e"
      },
      "source": [
        "Step 1: Learning Rate"
      ]
    },
    {
      "cell_type": "code",
      "execution_count": null,
      "metadata": {
        "id": "XHuz1i8QpHIb"
      },
      "outputs": [],
      "source": [
        "# Load the cleaned dataset\n",
        "df = pd.read_csv('cleaned_df.csv')\n",
        "\n",
        "# Define features and target variable\n",
        "X = df.drop(columns=['Diabetes_binary'])\n",
        "y = df['Diabetes_binary']\n",
        "\n",
        "# Split the data into training and testing sets\n",
        "X_train, X_test, y_train, y_test = train_test_split(X, y, test_size=0.2, random_state=42)\n",
        "\n",
        "# Initialize results list\n",
        "results = []\n",
        "\n",
        "# Loop through subsample values from 0.1 to 1.0 with step size 0.1\n",
        "for subsample in [x * 0.1 for x in range(1, 11)]:\n",
        "    # Loop through learning rates from 0.05 to 0.15 with step size 0.001\n",
        "    for learning_rate in [x * 0.001 for x in range(50, 151)]:\n",
        "        # Initialize the XGBoost Classifier with the current learning rate and subsample\n",
        "        xgb = XGBClassifier(\n",
        "            n_estimators=100,\n",
        "            learning_rate=learning_rate,\n",
        "            max_depth=6,\n",
        "            subsample=subsample,\n",
        "            colsample_bytree=0.8,\n",
        "            random_state=42,\n",
        "            eval_metric='logloss'\n",
        "        )\n",
        "\n",
        "        # Train the XGBoost model\n",
        "        xgb.fit(X_train, y_train)\n",
        "\n",
        "        # Predict on the test set\n",
        "        y_pred = xgb.predict(X_test)\n",
        "\n",
        "        # Calculate F1 score and save results\n",
        "        f1 = f1_score(y_test, y_pred)\n",
        "        results.append((learning_rate, subsample, f1))\n",
        "\n",
        "# Find and display the best combination\n",
        "best_result = max(results, key=lambda x: x[2])\n",
        "best_learning_rate, best_subsample, best_f1 = best_result\n",
        "print(f\"Best Learning Rate: {best_learning_rate:.3f}, Best Subsample: {best_subsample:.1f}, F1 Score: {best_f1:.4f}\")"
      ]
    },
    {
      "cell_type": "markdown",
      "metadata": {
        "id": "fkhqg_1rqqU0"
      },
      "source": [
        "Step 2:"
      ]
    },
    {
      "cell_type": "code",
      "source": [
        "# Load the dataset\n",
        "df = pd.read_csv('cleaned_df.csv')\n",
        "\n",
        "# Define features and target variable\n",
        "X = df.drop(columns=['Diabetes_binary'])\n",
        "y = df['Diabetes_binary']\n",
        "\n",
        "# Split the data into training and testing sets\n",
        "X_train, X_test, y_train, y_test = train_test_split(X, y, test_size=0.2, random_state=42)\n",
        "\n",
        "# Initialize the XGBoost model\n",
        "xgb_model = XGBClassifier(\n",
        "    n_estimators=100,\n",
        "    learning_rate=0.075,\n",
        "    max_depth=6,\n",
        "    subsample=0.8,\n",
        "    colsample_bytree=0.8,\n",
        "    eval_metric='logloss',\n",
        "    random_state=42\n",
        "    )\n",
        "\n",
        "# Train the XGBoost model\n",
        "xgb_model.fit(X_train, y_train)\n",
        "\n",
        "# Predict on the test set\n",
        "y_pred = xgb_model.predict(X_test)\n",
        "\n",
        "# Generate Confusion Matrix\n",
        "conf_matrix = confusion_matrix(y_test, y_pred)\n",
        "\n",
        "# Plot Confusion Matrix\n",
        "plt.figure(figsize=(6, 4))\n",
        "sns.heatmap(conf_matrix, annot=True, fmt=\"d\", cmap=\"Blues\", cbar=False,\n",
        "            xticklabels=['Non-Diabetic', 'Diabetic'],\n",
        "            yticklabels=['Non-Diabetic', 'Diabetic'])\n",
        "plt.xlabel(\"Predicted\")\n",
        "plt.ylabel(\"Actual\")\n",
        "plt.title(\"Confusion Matrix\")\n",
        "plt.show()\n",
        "\n",
        "# Display Classification Report\n",
        "print(\"\\nClassification Report:\")\n",
        "print(classification_report(y_test, y_pred, target_names=['Non-Diabetic', 'Diabetic']))\n",
        "\n",
        "# Evaluate performance and display metrics as percentages\n",
        "print(\"XGBoost Model\")\n",
        "print(\"Accuracy:\", f\"{accuracy_score(y_test, y_pred) * 100:.2f}%\")\n",
        "print(\"Precision:\", f\"{precision_score(y_test, y_pred) * 100:.2f}%\")\n",
        "print(\"Recall:\", f\"{recall_score(y_test, y_pred) * 100:.2f}%\")\n",
        "print(\"F1 Score:\", f\"{f1_score(y_test, y_pred) * 100:.2f}%\")\n",
        "print(\"ROC AUC Score:\", f\"{roc_auc_score(y_test, xgb_model.predict_proba(X_test)[:, 1]) * 100:.2f}%\")\n"
      ],
      "metadata": {
        "colab": {
          "base_uri": "https://localhost:8080/",
          "height": 714
        },
        "id": "IYVoNVS6cQhy",
        "outputId": "5a3576a1-9dfa-4084-b0cb-a694d4be7390"
      },
      "execution_count": null,
      "outputs": [
        {
          "output_type": "display_data",
          "data": {
            "text/plain": [
              "<Figure size 600x400 with 1 Axes>"
            ],
            "image/png": "[encoded data removed]"
          },
          "metadata": {}
        },
        {
          "output_type": "stream",
          "name": "stdout",
          "text": [
            "\n",
            "Classification Report:\n",
            "              precision    recall  f1-score   support\n",
            "\n",
            "Non-Diabetic       0.77      0.71      0.74      6723\n",
            "    Diabetic       0.75      0.80      0.77      7089\n",
            "\n",
            "    accuracy                           0.76     13812\n",
            "   macro avg       0.76      0.76      0.76     13812\n",
            "weighted avg       0.76      0.76      0.76     13812\n",
            "\n",
            "XGBoost Model\n",
            "Accuracy: 75.74%\n",
            "Precision: 74.62%\n",
            "Recall: 79.91%\n",
            "F1 Score: 77.17%\n",
            "ROC AUC Score: 83.12%\n"
          ]
        }
      ]
    },
    {
      "cell_type": "markdown",
      "source": [
        "**XGBoost Analysis:**\n",
        "\n",
        "Hyperparameter Tuned Performance:\n",
        "\n",
        "- **Accuracy**: 75.74%\n",
        "- **Precision**: 74.62%\n",
        "- **Recall**: 79.91%\n",
        "- **F1 Score**: 77.17%\n",
        "- **ROC AUC Score**: 83.12%\n",
        "\n"
      ],
      "metadata": {
        "id": "38c9Xddhn_-l"
      }
    },
    {
      "cell_type": "markdown",
      "source": [
        "# **Final Model: XGBoost**"
      ],
      "metadata": {
        "id": "ExT5SqAMzIf5"
      }
    },
    {
      "cell_type": "markdown",
      "source": [
        "### Reasons for selecting XGBoost:\n",
        "\n",
        "1. **Performance**: XGBoost often outperforms other models in binary classification tasks due to its ability to model complex relationships and handle imbalanced datasets effectively.\n",
        "\n",
        "2. **Flexibility**: XGBoost provides a wide range of hyperparameters, enabling the model to be fine-tuned for optimal performance.\n",
        "\n",
        "3. **Efficiency**: The implementation of XGBoost is highly optimized for speed and scalability, making it ideal for both small and large datasets.\n",
        "\n",
        "4. **Feature Importance**: XGBoost provides insights into feature contributions, making the model interpretable despite its complexity.\n",
        "\n",
        "\n",
        "## Evaluation Metrics\n",
        "\n",
        "The following metrics were used to evaluate the baseline model's performance:\n",
        "- **Accuracy**: Measures the overall correctness of the model's predictions.\n",
        "- **Precision**: Indicates the proportion of true positives out of all positive predictions.\n",
        "- **Recall**: Reflects the model's ability to identify all true positives.\n",
        "- **F1 Score**: The harmonic mean of precision and recall, balancing the two metrics.\n",
        "- **ROC AUC**: A measure of the trade-off between sensitivity and specificity, providing a score between 0.5 and 1.\n",
        "\n",
        "## Model Performance\n",
        "\n",
        "### Confusion Matrix\n",
        "\n",
        "|             | Predicted: Non-Diabetic | Predicted: Diabetic |\n",
        "|-------------|--------------------------|----------------------|\n",
        "| Actual: Non-Diabetic | 4796                 | 1927                 |\n",
        "| Actual: Diabetic     | 1424                 | 5665                 |\n",
        "\n",
        "### Summary of Tuned Model Performance\n",
        "\n",
        "- **Accuracy**: 75.74%\n",
        "- **Precision**: 74.62%\n",
        "- **Recall**: 79.91%\n",
        "- **F1 Score**: 77.17%\n",
        "- **ROC AUC Score**: 83.12%\n",
        "\n",
        "## Conclusion\n",
        "The XGBoost model outperformed all of the other models evaluated during development above. It was able to achieve a desireable F1-score comparatively to other models. We are happy with its bias towards recall as this is a medical diagnosis model, making recall an important metric. This performance demonstrates that XGBoost is a strong candidate for deployment, though further refinement and testing could lead to even greater improvements."
      ],
      "metadata": {
        "id": "lkyDH5UdzK1p"
      }
    }
  ],
  "metadata": {
    "colab": {
      "provenance": []
    },
    "kernelspec": {
      "display_name": "Python 3",
      "name": "python3"
    },
    "language_info": {
      "name": "python"
    }
  },
  "nbformat": 4,
  "nbformat_minor": 0
}